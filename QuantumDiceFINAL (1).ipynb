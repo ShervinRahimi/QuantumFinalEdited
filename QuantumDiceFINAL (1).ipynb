{
 "cells": [
  {
   "cell_type": "code",
   "execution_count": 68,
   "metadata": {},
   "outputs": [],
   "source": [
    "\n",
    "# begin with importing essential libraries for IBM Q\n",
    "from qiskit import IBMQ, BasicAer\n",
    "from qiskit import ClassicalRegister, QuantumRegister, QuantumCircuit"
   ]
  },
  {
   "cell_type": "code",
   "execution_count": 69,
   "metadata": {},
   "outputs": [
    {
     "data": {
      "text/plain": [
       "<qiskit.circuit.instructionset.InstructionSet at 0x1a1a37f5f8>"
      ]
     },
     "execution_count": 69,
     "metadata": {},
     "output_type": "execute_result"
    }
   ],
   "source": [
    "# set up Quantum Register and Classical Register for 3 qubits\n",
    "q = QuantumRegister(3)\n",
    "c = ClassicalRegister(3)\n",
    "# Create a Quantum Circuit\n",
    "qc = QuantumCircuit(q, c)\n",
    "qc.h(q)\n",
    "qc.measure(q, c)"
   ]
  },
  {
   "cell_type": "code",
   "execution_count": 70,
   "metadata": {},
   "outputs": [
    {
     "data": {
      "text/html": [
       "<pre style=\"word-wrap: normal;white-space: pre;line-height: 15px;\">         ┌───┐┌─┐      \n",
       "q9_0: |0>┤ H ├┤M├──────\n",
       "         ├───┤└╥┘┌─┐   \n",
       "q9_1: |0>┤ H ├─╫─┤M├───\n",
       "         ├───┤ ║ └╥┘┌─┐\n",
       "q9_2: |0>┤ H ├─╫──╫─┤M├\n",
       "         └───┘ ║  ║ └╥┘\n",
       " c9_0: 0 ══════╩══╬══╬═\n",
       "                  ║  ║ \n",
       " c9_1: 0 ═════════╩══╬═\n",
       "                     ║ \n",
       " c9_2: 0 ════════════╩═\n",
       "                       </pre>"
      ],
      "text/plain": [
       "<qiskit.visualization.text.TextDrawing at 0x1a1a389f28>"
      ]
     },
     "execution_count": 70,
     "metadata": {},
     "output_type": "execute_result"
    }
   ],
   "source": [
    "qc.draw()"
   ]
  },
  {
   "cell_type": "code",
   "execution_count": 92,
   "metadata": {},
   "outputs": [],
   "source": [
    "def answer(result):\n",
    "    for key in result.keys():\n",
    "        state = key\n",
    "    print('The 8 Sided Dice Rolled:')\n",
    "    if state == '000':\n",
    "        print('One')\n",
    "    elif state == '001':\n",
    "        print('Two')\n",
    "    elif state == '010':\n",
    "        print('Three')\n",
    "    elif state == '011':\n",
    "        print('Four')\n",
    "    elif state == '100':\n",
    "        print(\"Five\")\n",
    "    elif state == '101':\n",
    "        print('Six')\n",
    "    elif state == '110':\n",
    "        print('Seven')\n",
    "    elif state == '111':\n",
    "        print('Eight')\n",
    "    else:\n",
    "        print('Roll Again!!')"
   ]
  },
  {
   "cell_type": "code",
   "execution_count": 93,
   "metadata": {},
   "outputs": [
    {
     "name": "stdout",
     "output_type": "stream",
     "text": [
      "The 8 Sided Dice Rolled:\n",
      "Roll Again!!\n"
     ]
    }
   ],
   "source": [
    "from qiskit import execute\n",
    "job = execute(qc, backend=BasicAer.get_backend('qasm_simulator'), shots=1)\n",
    "result = job.result().get_counts(qc)\n",
    "answer(result)"
   ]
  },
  {
   "cell_type": "code",
   "execution_count": 73,
   "metadata": {},
   "outputs": [
    {
     "data": {
      "text/html": [
       "<pre style=\"word-wrap: normal;white-space: pre;line-height: 15px;\">         ┌───┐┌─┐      \n",
       "q9_0: |0>┤ H ├┤M├──────\n",
       "         ├───┤└╥┘┌─┐   \n",
       "q9_1: |0>┤ H ├─╫─┤M├───\n",
       "         ├───┤ ║ └╥┘┌─┐\n",
       "q9_2: |0>┤ H ├─╫──╫─┤M├\n",
       "         └───┘ ║  ║ └╥┘\n",
       " c9_0: 0 ══════╩══╬══╬═\n",
       "                  ║  ║ \n",
       " c9_1: 0 ═════════╩══╬═\n",
       "                     ║ \n",
       " c9_2: 0 ════════════╩═\n",
       "                       </pre>"
      ],
      "text/plain": [
       "<qiskit.visualization.text.TextDrawing at 0x1a1a349a90>"
      ]
     },
     "execution_count": 73,
     "metadata": {},
     "output_type": "execute_result"
    }
   ],
   "source": [
    "qc.draw()"
   ]
  },
  {
   "cell_type": "code",
   "execution_count": 74,
   "metadata": {},
   "outputs": [
    {
     "data": {
      "text/plain": [
       "<qiskit.circuit.instructionset.InstructionSet at 0x1a1a3cfbe0>"
      ]
     },
     "execution_count": 74,
     "metadata": {},
     "output_type": "execute_result"
    }
   ],
   "source": [
    "# set up Quantum Register and Classical Register for 3 qubits\n",
    "q = QuantumRegister(4)\n",
    "c = ClassicalRegister(4)\n",
    "# Create a Quantum Circuit\n",
    "qc = QuantumCircuit(q, c)\n",
    "qc.h(q)\n",
    "qc.measure(q, c)"
   ]
  },
  {
   "cell_type": "code",
   "execution_count": 75,
   "metadata": {},
   "outputs": [
    {
     "data": {
      "text/html": [
       "<pre style=\"word-wrap: normal;white-space: pre;line-height: 15px;\">          ┌───┐┌─┐         \n",
       "q10_0: |0>┤ H ├┤M├─────────\n",
       "          ├───┤└╥┘┌─┐      \n",
       "q10_1: |0>┤ H ├─╫─┤M├──────\n",
       "          ├───┤ ║ └╥┘┌─┐   \n",
       "q10_2: |0>┤ H ├─╫──╫─┤M├───\n",
       "          ├───┤ ║  ║ └╥┘┌─┐\n",
       "q10_3: |0>┤ H ├─╫──╫──╫─┤M├\n",
       "          └───┘ ║  ║  ║ └╥┘\n",
       " c10_0: 0 ══════╩══╬══╬══╬═\n",
       "                   ║  ║  ║ \n",
       " c10_1: 0 ═════════╩══╬══╬═\n",
       "                      ║  ║ \n",
       " c10_2: 0 ════════════╩══╬═\n",
       "                         ║ \n",
       " c10_3: 0 ═══════════════╩═\n",
       "                           </pre>"
      ],
      "text/plain": [
       "<qiskit.visualization.text.TextDrawing at 0x1a1a37add8>"
      ]
     },
     "execution_count": 75,
     "metadata": {},
     "output_type": "execute_result"
    }
   ],
   "source": [
    "qc.draw()"
   ]
  },
  {
   "cell_type": "code",
   "execution_count": 76,
   "metadata": {},
   "outputs": [],
   "source": [
    "def answer(result):\n",
    "    for key in result.keys():\n",
    "        state = key\n",
    "    print('The 16 Sided Dice Rolled:')\n",
    "    if state == '0000':\n",
    "        print('One')\n",
    "    elif state == '0001':\n",
    "        print('Two')\n",
    "    elif state == '0011':\n",
    "        print('Three')\n",
    "    elif state == '0111':\n",
    "        print('Four')\n",
    "    elif state == '1111':\n",
    "        print(\"Five\")\n",
    "    elif state == '1001':\n",
    "        print('Six')\n",
    "    elif state == '1010':\n",
    "        print('Seven')\n",
    "    elif state == '0100':\n",
    "        print('Eight')\n",
    "    elif state == '1000':\n",
    "        print('Nine')\n",
    "    elif state == '1100':\n",
    "        print('Ten')\n",
    "    elif state == '0010':\n",
    "        print('Eleven')\n",
    "    elif state == '0101':\n",
    "        print('Twelve')\n",
    "    elif state == '1101':\n",
    "        print('Thirteen')\n",
    "    elif state == '0100':\n",
    "        print('Fourteen')\n",
    "    elif state == '1011':\n",
    "        print('Fifteen')\n",
    "    elif state == '1110':\n",
    "        print('Sixteen')\n",
    "    \n",
    "    else:\n",
    "        print('Roll Again!!')"
   ]
  },
  {
   "cell_type": "code",
   "execution_count": 85,
   "metadata": {},
   "outputs": [
    {
     "name": "stdout",
     "output_type": "stream",
     "text": [
      "The 16 Sided Dice Rolled:\n",
      "Two\n"
     ]
    }
   ],
   "source": [
    "from qiskit import execute\n",
    "job = execute(qc, backend=BasicAer.get_backend('qasm_simulator'), shots=1)\n",
    "result = job.result().get_counts(qc)\n",
    "answer(result)"
   ]
  },
  {
   "cell_type": "code",
   "execution_count": null,
   "metadata": {},
   "outputs": [],
   "source": []
  },
  {
   "cell_type": "code",
   "execution_count": null,
   "metadata": {},
   "outputs": [],
   "source": []
  }
 ],
 "metadata": {
  "kernelspec": {
   "display_name": "Python 3",
   "language": "python",
   "name": "python3"
  },
  "language_info": {
   "codemirror_mode": {
    "name": "ipython",
    "version": 3
   },
   "file_extension": ".py",
   "mimetype": "text/x-python",
   "name": "python",
   "nbconvert_exporter": "python",
   "pygments_lexer": "ipython3",
   "version": "3.7.3"
  }
 },
 "nbformat": 4,
 "nbformat_minor": 2
}
